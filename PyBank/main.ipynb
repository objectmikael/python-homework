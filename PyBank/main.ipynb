{
 "cells": [
  {
   "cell_type": "code",
   "execution_count": 47,
   "metadata": {},
   "outputs": [],
   "source": [
    "# import pandas and assign it to the variable pd\n",
    "import pandas as pd \n",
    "\n",
    "# using pandas, import the .csv file containing the data and save it to a variable data\n",
    "data = pd.read_csv('budget_data.csv') "
   ]
  },
  {
   "cell_type": "code",
   "execution_count": 48,
   "metadata": {},
   "outputs": [],
   "source": [
    "# define a function that calculates the number of entries in the data set and returns the value \n",
    "def total_months():\n",
    "    return len(data)"
   ]
  },
  {
   "cell_type": "code",
   "execution_count": 49,
   "metadata": {},
   "outputs": [],
   "source": [
    "# define a function that calculates the net total mount of Profit/Losses in the data set and return the value\n",
    "def net_total():\n",
    "    sum=data['Profit/Losses'].sum()\n",
    "    return sum"
   ]
  },
  {
   "cell_type": "code",
   "execution_count": 50,
   "metadata": {},
   "outputs": [],
   "source": [
    "# define a function that caluculates the average change in Profit/Losses in the data set and return the value, rounded to two decimal places\n",
    "def avg_changes():\n",
    "    change = data['Profit/Losses'].diff()\n",
    "    avg_change = change.mean().round(2) \n",
    "    return avg_change"
   ]
  },
  {
   "cell_type": "code",
   "execution_count": 51,
   "metadata": {},
   "outputs": [],
   "source": [
    "# define a function that creates a new column in the data set to store the change from one date to the next \n",
    "def add_change_column():\n",
    "    data['Change']= data['Profit/Losses'].diff()\n",
    "\n",
    "add_change_column()"
   ]
  },
  {
   "cell_type": "code",
   "execution_count": 52,
   "metadata": {},
   "outputs": [],
   "source": [
    "# define a function that identifies the location of the entry with the highest value in the newly formed change column and returns both the date and amount in a list \n",
    "def greatest_increase():\n",
    "    max_index = data['Change'].idxmax()\n",
    "    date = data.loc[max_index, 'Date']\n",
    "    amount = data.loc[max_index, 'Change']\n",
    "    return [date, amount]"
   ]
  },
  {
   "cell_type": "code",
   "execution_count": 53,
   "metadata": {},
   "outputs": [],
   "source": [
    "# define a function that identifies the location of the entry with the lowest value in the newly formed change column and returns both the date and amount in a list \n",
    "def greatest_decrease():\n",
    "    min_index = data['Change'].idxmin()\n",
    "    date = data.loc[min_index, 'Date']\n",
    "    amount = data.loc[min_index, 'Change']\n",
    "    return [date, amount]"
   ]
  },
  {
   "cell_type": "code",
   "execution_count": 54,
   "metadata": {},
   "outputs": [
    {
     "name": "stdout",
     "output_type": "stream",
     "text": [
      "Financial Analysis\n",
      "----------------------------\n",
      "Total Months: 86\n",
      "Total: $38382578\n",
      "Average Change: $-2315.12\n",
      "Greatest Increase in Profits: Feb-2012 ($1926159.0)\n",
      "Greatest Decrease in Profits: Sep-2013 ($-2196167.0)\n"
     ]
    }
   ],
   "source": [
    "print('Financial Analysis')\n",
    "print('----------------------------')\n",
    "\n",
    "print(f'Total Months: {total_months()}')\n",
    "print(f'Total: ${net_total()}') \n",
    "print(f'Average Change: ${avg_changes()}')\n",
    "print(f'Greatest Increase in Profits: {greatest_increase()[0]} (${greatest_increase()[1]})')\n",
    "print(f'Greatest Decrease in Profits: {greatest_decrease()[0]} (${greatest_decrease()[1]})')\n",
    "\n",
    "# creates a text file called PyBank_Results and writes the desired output to the file\n",
    "with open('PyBank_Results.txt', 'w') as file:\n",
    "    file.write('Financial Analysis \\n')\n",
    "    file.write('---------------------------- \\n')\n",
    "    file.write(f'Total Months: {total_months()} \\n')\n",
    "    file.write(f'Total: ${net_total()} \\n')\n",
    "    file.write(f'Average Change: ${avg_changes()} \\n')\n",
    "    file.write(f'Greatest Increase in Profits: {greatest_increase()[0]} (${greatest_increase()[1]}) \\n')\n",
    "    file.write(f'Greatest Decrease in Profits: {greatest_decrease()[0]} (${greatest_decrease()[1]})')"
   ]
  }
 ],
 "metadata": {
  "kernelspec": {
   "display_name": "dev",
   "language": "python",
   "name": "python3"
  },
  "language_info": {
   "codemirror_mode": {
    "name": "ipython",
    "version": 3
   },
   "file_extension": ".py",
   "mimetype": "text/x-python",
   "name": "python",
   "nbconvert_exporter": "python",
   "pygments_lexer": "ipython3",
   "version": "3.10.13"
  }
 },
 "nbformat": 4,
 "nbformat_minor": 2
}
