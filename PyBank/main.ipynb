{
 "cells": [
  {
   "cell_type": "code",
   "execution_count": 2,
   "metadata": {},
   "outputs": [],
   "source": [
    "import csv #import csv library so we can parse the CSV file\n",
    "\n",
    "dates = [] #define empty list to store Date values from the CSV file\n",
    "profits_and_losses = [] #define empty list to store Profit/Losses values from the CSV file\n",
    "\n",
    "with open('budget_data.csv', newline='') as budget_data: #open the budget_data.csv with the variable budget_data\n",
    "    budget_reader = csv.DictReader(budget_data) #convert the lines of the CSV file fo Python dictionaries\n",
    "    for row in budget_reader:\n",
    "        dates.append(row['Date']) #use the Date key to append values to the dates list \n",
    "        profits_and_losses.append(int(row['Profit/Losses'])) #use the Profit/Losses key to append values to the profits_and_losses list; converted values from strings to integers "
   ]
  },
  {
   "cell_type": "code",
   "execution_count": 3,
   "metadata": {},
   "outputs": [],
   "source": [
    "# define a function that calculates the number of entries in the data set and returns the value \n",
    "def total_months():\n",
    "    return len(dates) #use the len method to count the number of elements in the dates list "
   ]
  },
  {
   "cell_type": "code",
   "execution_count": 4,
   "metadata": {},
   "outputs": [],
   "source": [
    "# define a function that calculates the net total amount of Profit/Losses in the data set and return the value\n",
    "def net_total():\n",
    "    sum_profits=sum(profits_and_losses) #use the sum method to calculate the sum total in the profits_and_losses list\n",
    "    return sum_profits"
   ]
  },
  {
   "cell_type": "code",
   "execution_count": 5,
   "metadata": {},
   "outputs": [],
   "source": [
    "# define a function that caluculates the average change in Profit/Losses in the data set and return the value, rounded to two decimal places\n",
    "change = [] #declare an empty list to hold the values of the Profit/Losses changes from month to month \n",
    "\n",
    "def avg_changes():\n",
    "    for value in profits_and_losses:\n",
    "        if value == profits_and_losses[0]: #if the value is equal to the the value in the index 0 of profits_and_losses, run the code block\n",
    "            x1 = value #assign value to a variable x1\n",
    "        elif value: #if a value exist, run the code block set it equal to value_x2\n",
    "            x2 = value #assign value to a variable x2\n",
    "            delta = x2 - x1 #calculate the difference of x2 and x1 and assign it to a variable delta\n",
    "            change.append(delta) #add the value of delta to the change list\n",
    "            x1 = x2 #reassign the x1 the value of x2\n",
    "    return round((sum(change)/len(change)),2) #return the average, rounded to two decimal places"
   ]
  },
  {
   "cell_type": "code",
   "execution_count": 6,
   "metadata": {},
   "outputs": [],
   "source": [
    "# define a function that identifies the index of the element with the highest delta in change list and returns both the Date and Total that corresponds \n",
    "def greatest_increase_in_profits():\n",
    "    max_index = change.index(max(change)) #identify the index of the largest delta in the change list\n",
    "    date = dates[max_index+1] #grab the corresponding date from the dates list\n",
    "    amount = max(change) #grab the max value from the change list\n",
    "    return [date, amount] #return both the date and amount variables in a list"
   ]
  },
  {
   "cell_type": "code",
   "execution_count": 7,
   "metadata": {},
   "outputs": [],
   "source": [
    "# define a function that identifies the index of the element with the smallest delta in change list and returns both the Date and Total that corresponds \n",
    "def greatest_decrease_in_profits():\n",
    "    min_index = change.index(min(change)) #identify the index of the smallest delta in the change list\n",
    "    date = dates[min_index+1] #grab the corresponding date from the dates list\n",
    "    amount = min(change) #grab the max value from the change list\n",
    "    return [date, amount] #return both the date and amount variables in a list"
   ]
  },
  {
   "cell_type": "code",
   "execution_count": 8,
   "metadata": {},
   "outputs": [
    {
     "name": "stdout",
     "output_type": "stream",
     "text": [
      "Financial Analysis\n",
      "----------------------------\n",
      "Total Months: 86\n",
      "Total: $38382578\n",
      "Average Change: $-2315.12\n",
      "Greatest Increase in Profits: Feb-2012 ($1926159)\n",
      "Greatest Decrease in Profits: Sep-2013 ($-2196167)\n"
     ]
    }
   ],
   "source": [
    "#print the result per instructions\n",
    "print('Financial Analysis')\n",
    "print('----------------------------')\n",
    "\n",
    "print(f'Total Months: {total_months()}')\n",
    "print(f'Total: ${net_total()}') \n",
    "print(f'Average Change: ${avg_changes()}')\n",
    "print(f'Greatest Increase in Profits: {greatest_increase_in_profits()[0]} (${greatest_increase_in_profits()[1]})')\n",
    "print(f'Greatest Decrease in Profits: {greatest_decrease_in_profits()[0]} (${greatest_decrease_in_profits()[1]})')\n",
    "\n",
    "# creates a text file called PyBank_Results and write the desired output to the file\n",
    "with open('PyBank_Results.txt', 'w') as file: #open a file in write mode and write the desired output\n",
    "    file.write('Financial Analysis \\n')\n",
    "    file.write('---------------------------- \\n')\n",
    "    file.write(f'Total Months: {total_months()} \\n')\n",
    "    file.write(f'Total: ${net_total()} \\n')\n",
    "    file.write(f'Average Change: ${avg_changes()} \\n')\n",
    "    file.write(f'Greatest Increase in Profits: {greatest_increase_in_profits()[0]} (${greatest_increase_in_profits()[1]}) \\n')\n",
    "    file.write(f'Greatest Decrease in Profits: {greatest_decrease_in_profits()[0]} (${greatest_decrease_in_profits()[1]})')"
   ]
  }
 ],
 "metadata": {
  "kernelspec": {
   "display_name": "dev",
   "language": "python",
   "name": "python3"
  },
  "language_info": {
   "codemirror_mode": {
    "name": "ipython",
    "version": 3
   },
   "file_extension": ".py",
   "mimetype": "text/x-python",
   "name": "python",
   "nbconvert_exporter": "python",
   "pygments_lexer": "ipython3",
   "version": "3.10.13"
  }
 },
 "nbformat": 4,
 "nbformat_minor": 2
}
