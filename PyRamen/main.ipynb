{
 "cells": [
  {
   "cell_type": "code",
   "execution_count": 6,
   "metadata": {},
   "outputs": [],
   "source": [
    "import csv #import csv library so we can parse the CSV file\n",
    "\n",
    "menu = [] #define empty list to store values from the CSV file\n",
    "sales = [] #define empty list to store values from the CSV file\n",
    "report = {} #define empty dictionary to store the aggregated per-product results\n",
    "\n",
    "with open('menu_data.csv', newline='') as menu_data: #open the budget_data.csv with the variable budget_data\n",
    "    menu_reader = csv.reader(menu_data) #use the `reader` function from the `csv` library to begin reading the data\n",
    "    header = next(menu_reader) #use the `next` function to skip the header\n",
    "    for row in menu_reader:\n",
    "        menu.append(row) #add each row of the data to the menu list"
   ]
  },
  {
   "cell_type": "code",
   "execution_count": 7,
   "metadata": {},
   "outputs": [],
   "source": [
    "#create a nested loop by looping through every record in `menu`\n",
    "\n",
    "for record in menu:\n",
    "    ...\n"
   ]
  }
 ],
 "metadata": {
  "kernelspec": {
   "display_name": "dev",
   "language": "python",
   "name": "python3"
  },
  "language_info": {
   "codemirror_mode": {
    "name": "ipython",
    "version": 3
   },
   "file_extension": ".py",
   "mimetype": "text/x-python",
   "name": "python",
   "nbconvert_exporter": "python",
   "pygments_lexer": "ipython3",
   "version": "3.10.13"
  }
 },
 "nbformat": 4,
 "nbformat_minor": 2
}
