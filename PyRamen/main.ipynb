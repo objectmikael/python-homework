{
 "cells": [
  {
   "cell_type": "code",
   "execution_count": 3,
   "metadata": {},
   "outputs": [],
   "source": [
    "import csv #import csv library so we can parse the CSV file\n",
    "\n",
    "menu = [] #define empty list to store values from the CSV file\n",
    "sales = [] #define empty list to store values from the CSV file\n",
    "report = {} #define empty dictionary to store the aggregated per-product results\n",
    "\n",
    "with open('menu_data.csv', newline='') as menu_data: #open the menu_data.csv with the variable menu_data\n",
    "    menu_reader = csv.reader(menu_data) #use the `reader` function from the `csv` library to begin reading the data\n",
    "    header = next(menu_reader) #use the `next` function to skip the header\n",
    "    for row in menu_reader:\n",
    "        menu.append(row) #add each row of the data to the menu list\n",
    "\n",
    "with open('sales_data.csv', newline='') as sales_data: #open the sales_data.csv with the variable sales_data\n",
    "    sales_reader = csv.reader(sales_data) #use the `reader` function from the `csv` library to begin reading the data\n",
    "    header = next(sales_reader) #use the `next` function to skip the header\n",
    "    for row in sales_reader:\n",
    "        sales.append(row) #add each row of the data to the sales list"
   ]
  },
  {
   "cell_type": "code",
   "execution_count": 4,
   "metadata": {},
   "outputs": [
    {
     "name": "stdout",
     "output_type": "stream",
     "text": [
      "{'spicy miso ramen': {'01-count': 9238, '02-revenue': 110856.0, '03-cogs': 46190, '04-profit': 64666.0}, 'tori paitan ramen': {'01-count': 9156, '02-revenue': 119028.0, '03-cogs': 54936, '04-profit': 64092.0}, 'truffle butter ramen': {'01-count': 8982, '02-revenue': 125748.0, '03-cogs': 62874, '04-profit': 62874.0}, 'tonkotsu ramen': {'01-count': 9288, '02-revenue': 120744.0, '03-cogs': 55728, '04-profit': 65016.0}, 'vegetarian spicy miso': {'01-count': 9216, '02-revenue': 110592.0, '03-cogs': 46080, '04-profit': 64512.0}, 'shio ramen': {'01-count': 9180, '02-revenue': 100980.0, '03-cogs': 45900, '04-profit': 55080.0}, 'miso crab ramen': {'01-count': 8890, '02-revenue': 106680.0, '03-cogs': 53340, '04-profit': 53340.0}, 'nagomi shoyu': {'01-count': 9132, '02-revenue': 100452.0, '03-cogs': 45660, '04-profit': 54792.0}, 'soft-shell miso crab ramen': {'01-count': 9130, '02-revenue': 127820.0, '03-cogs': 63910, '04-profit': 63910.0}, 'burnt garlic tonkotsu ramen': {'01-count': 9070, '02-revenue': 126980.0, '03-cogs': 54420, '04-profit': 72560.0}, 'vegetarian curry + king trumpet mushroom ramen': {'01-count': 8824, '02-revenue': 114712.0, '03-cogs': 61768, '04-profit': 52944.0}}\n"
     ]
    }
   ],
   "source": [
    "#create a nested loop by looping through every record in `menu`\n",
    "\n",
    "for row in sales:\n",
    "    quantity = int(row[3])\n",
    "    sales_item = row[4]\n",
    "\n",
    "    if sales_item not in report:\n",
    "        report[sales_item] = {'01-count':0, '02-revenue':0, '03-cogs':0, '04-profit':0}\n",
    "\n",
    "    #create a nested loop by looping through every record in `menu`\n",
    "    for row in menu:\n",
    "        item = row[0]\n",
    "        price = float(row[3])\n",
    "        cost = int(row[4])\n",
    "\n",
    "        if sales_item == item:\n",
    "            quantity = quantity\n",
    "            price = price\n",
    "            cost = cost\n",
    "            report[sales_item][\"01-count\"] += quantity\n",
    "            report[sales_item][\"02-revenue\"] += price * quantity\n",
    "            report[sales_item][\"03-cogs\"] += cost * quantity\n",
    "            report[sales_item][\"04-profit\"] += (price-cost) * quantity\n",
    "        # else:  #unsure of the logic for the else statement because for each item in the menu the statement will print because we're iterating through the menu list nested inside the sales list \n",
    "        #     print(f'{sales_item} does not equal {item}! NO MATCH!')\n",
    "\n",
    "print(report)"
   ]
  }
 ],
 "metadata": {
  "kernelspec": {
   "display_name": "dev",
   "language": "python",
   "name": "python3"
  },
  "language_info": {
   "codemirror_mode": {
    "name": "ipython",
    "version": 3
   },
   "file_extension": ".py",
   "mimetype": "text/x-python",
   "name": "python",
   "nbconvert_exporter": "python",
   "pygments_lexer": "ipython3",
   "version": "3.10.13"
  }
 },
 "nbformat": 4,
 "nbformat_minor": 2
}
